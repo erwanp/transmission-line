{
 "cells": [
  {
   "cell_type": "markdown",
   "metadata": {},
   "source": [
    "# Transmission Line\n",
    "\n",
    "Transmission line can be modelled as:\n",
    "\n",
    "![https://casper.berkeley.edu/astrobaki/images/6/65/Transmission_line_rlgc.png](https://casper.berkeley.edu/astrobaki/images/6/65/Transmission_line_rlgc.png)\n",
    "*(Image from casper.berkeley.edu) *\n",
    "\n",
    "We write:\n",
    "\n",
    "$$Z = R + jL\\omega$$\n",
    "$$Y = G + jC\\omega$$\n",
    "\n",
    "In the uniform case, the solutions are Telegrapher's equations:\n",
    "\n",
    "$$V(x) = V^+ e^{-\\gamma x} + V^- e^{\\gamma x} $$\n",
    "$$I(x) = \\frac{V^+}{Z_C} e^{-\\gamma x} + \\frac{V^-}{Z_C} e^{\\gamma x} $$\n",
    "\n",
    "Where the parameters of the line are:\n",
    "\n",
    "$$Z_C = \\sqrt{\\frac{Z}{Y}}$$\n",
    "$$\\gamma = \\sqrt{ZY} = \\alpha + j\\beta $$ \n",
    "\n",
    "In this last equation, $\\alpha=0$ correspond to the lossless case. \n",
    "\n",
    "A load that is not matched with the impedance of the line will induce a reflected wave. Below is the intensity of the reflected as a function of the relative impedance of the load.\n",
    "\n",
    "![reflections](pics/reflection.png)\n",
    "\n",
    "### A Finite Element Approach\n",
    "\n",
    "*Original core code and equivalent Norton derivation presented here are from http://helloworld922.blogspot.com/2013/04/transmission-line-simulation.html *\n",
    "\n",
    "In the following model we use a serie of simplified Finite Element models without losses (below an example with 8 elements).\n",
    "\n",
    "![https://lh4.googleusercontent.com/-f9U2awhwDj8/UUuSmWKPU2I/AAAAAAAAAUc/PMTGn4u0lJg/s800/trans_line_sch.png](https://lh4.googleusercontent.com/-f9U2awhwDj8/UUuSmWKPU2I/AAAAAAAAAUc/PMTGn4u0lJg/s800/trans_line_sch.png)\n",
    "\n",
    "Each capacitor and inductor can be modelled as an equivalent Norton circuit (below an example with 4 elements). \n",
    "\n",
    "![equivmodel](https://lh3.googleusercontent.com/-u1cOzdf_5pw/UUuSmKF7NQI/AAAAAAAAAUY/xClQYH-2AEc/s800/step_model.png)\n",
    "\n",
    "This system results in the following equation:\n",
    "\n",
    "$$\\begin{bmatrix}\n",
    "1 & 0   & 0   & 0   & 0   & 0\\\\\n",
    "-G_1 & GL + G_1 & -GL  & 0   & 0   & 0\\\\\n",
    "0 & -GL  & GC + 2 GL & -GL  & 0   & 0\\\\\n",
    "0 & 0   & -GL  & GC + 2 GL & -GL  & 0\\\\\n",
    "0 & 0   & 0   & -GL  & GC + 2GL & -GL\\\\\n",
    "0 & 0   & 0   & 0   & -GL  & GC + G_2 + GL\n",
    "\\end{bmatrix}\n",
    "\\begin{bmatrix}\n",
    "V_1\\\\\n",
    "V_2\\\\\n",
    "V_3\\\\\n",
    "V_4\\\\\n",
    "V_5\\\\\n",
    "V_6\n",
    "\\end{bmatrix} =\n",
    "\\begin{bmatrix}\n",
    "VS\\\\\n",
    "IL_1\\\\\n",
    "IC_1 + IL_2 - IL_1\\\\\n",
    "IC_2 + IL_3 - IL_2\\\\\n",
    "IC_3 + IL_4 - IL_3\\\\\n",
    "IC_4 - IL_4\n",
    "\\end{bmatrix}$$\n",
    "\n",
    "\n"
   ]
  },
  {
   "cell_type": "markdown",
   "metadata": {},
   "source": [
    "The model is solved in the \"line\" class. See transmission_line.py for more information."
   ]
  },
  {
   "cell_type": "code",
   "execution_count": 6,
   "metadata": {
    "collapsed": true
   },
   "outputs": [],
   "source": [
    "from transmission_line import line\n",
    "\n",
    "#%% Model parameters\n",
    "Z = 50              # equivalent line impedance (Ohm)\n",
    "d = 2               # line length (m)\n",
    "\n",
    "R1 = 25             # pulser impedance\n",
    "R2 = 1e9            # Load impedance\n",
    "dt = 5e-11          # time resolution. lower = better but more time consuming\n",
    "tRise = 0.5e-9 #1e-9\n",
    "tFall = tRise\n",
    "tPeriod = 100e-9\n",
    "tOn = 5e-9 # tPeriod / 2 - tRise\n",
    "\n",
    "# Scope\n",
    "xscope = 1    # % of total cable length where to place the scope\n",
    "\n",
    "# Run the model\n",
    "tl=line(Z,R1,R2,d,tRise,tFall,tPeriod,tOn,dt=dt,interval=10,xscope=xscope)"
   ]
  },
  {
   "cell_type": "code",
   "execution_count": null,
   "metadata": {
    "collapsed": true
   },
   "outputs": [],
   "source": []
  }
 ],
 "metadata": {
  "anaconda-cloud": {},
  "kernelspec": {
   "display_name": "Python [Root]",
   "language": "python",
   "name": "Python [Root]"
  },
  "language_info": {
   "codemirror_mode": {
    "name": "ipython",
    "version": 3
   },
   "file_extension": ".py",
   "mimetype": "text/x-python",
   "name": "python",
   "nbconvert_exporter": "python",
   "pygments_lexer": "ipython3",
   "version": "3.5.2"
  }
 },
 "nbformat": 4,
 "nbformat_minor": 0
}
